{
 "cells": [
  {
   "cell_type": "code",
   "execution_count": 1,
   "id": "251581a3",
   "metadata": {},
   "outputs": [
    {
     "name": "stdout",
     "output_type": "stream",
     "text": [
      "Solution no 1\n",
      "Twinkle, twinkle, little star, \n",
      "\tHow I wonder what you are! \n",
      "\t\tUp above the world so high, \n",
      "\t\tLike a diamond in the sky. \n",
      "Twinkle, twinkle, little star, \n",
      "\tHow I wonder what you are\n"
     ]
    }
   ],
   "source": [
    "#1.Write a Python program to print the following string in a specific format\n",
    "print(\"Solution no 1\");\n",
    "print(\"Twinkle, twinkle, little star, \\n\\tHow I wonder what you are! \\n\\t\\tUp above the world so high, \\n\\t\\tLike a diamond in the sky. \\nTwinkle, twinkle, little star, \\n\\tHow I wonder what you are\");"
   ]
  },
  {
   "cell_type": "code",
   "execution_count": 2,
   "id": "adba747d",
   "metadata": {},
   "outputs": [
    {
     "name": "stdout",
     "output_type": "stream",
     "text": [
      "Solution no 2\n",
      "3.8.8 (default, Apr 13 2021, 15:08:03) [MSC v.1916 64 bit (AMD64)]\n"
     ]
    }
   ],
   "source": [
    "#2.Write a Python program to get the Python version you are using\n",
    "import sys\n",
    "print(\"Solution no 2\");\n",
    "print(sys.version);"
   ]
  },
  {
   "cell_type": "code",
   "execution_count": 3,
   "id": "9995228e",
   "metadata": {},
   "outputs": [
    {
     "name": "stdout",
     "output_type": "stream",
     "text": [
      "Solution no 3\n",
      "Current Date and Time: 2022-01-01 19:24:43\n"
     ]
    }
   ],
   "source": [
    "#3.Write a Python program to display the current date and time.\n",
    "import datetime\n",
    "print(\"Solution no 3\");\n",
    "now = datetime.datetime.now();\n",
    "print(\"Current Date and Time:\",now.strftime(\"%Y-%m-%d %H:%M:%S\"));"
   ]
  },
  {
   "cell_type": "code",
   "execution_count": 4,
   "id": "f48ffcbc",
   "metadata": {},
   "outputs": [
    {
     "name": "stdout",
     "output_type": "stream",
     "text": [
      "Solution no 4\n",
      "Enter Value of Radius:5\n",
      "Area of Circle is: 78.5\n"
     ]
    }
   ],
   "source": [
    "#4.Write a Python program which accepts the radius of a circle from the user and compute the area\n",
    "print(\"Solution no 4\");\n",
    "radius= int(input(\"Enter Value of Radius:\"));\n",
    "pi=3.14;\n",
    "area=pi*(radius)**2;\n",
    "print(\"Area of Circle is:\",area);"
   ]
  },
  {
   "cell_type": "code",
   "execution_count": 5,
   "id": "71907f59",
   "metadata": {},
   "outputs": [
    {
     "name": "stdout",
     "output_type": "stream",
     "text": [
      "Solution no 5\n",
      "Enter First Name:Marvi\n",
      "Enter Last Name:Shaikh\n",
      "Name in Reverse Order:Shaikh Marvi\n"
     ]
    }
   ],
   "source": [
    "#5.Write a Python program which accepts the user's first and last name and print them in reverse order with a space between them\n",
    "print(\"Solution no 5\");\n",
    "firstname = input(\"Enter First Name:\");\n",
    "lastname = input(\"Enter Last Name:\");\n",
    "print (\"Name in Reverse Order:\"+lastname + \" \" + firstname);"
   ]
  },
  {
   "cell_type": "code",
   "execution_count": 6,
   "id": "583b1429",
   "metadata": {},
   "outputs": [
    {
     "name": "stdout",
     "output_type": "stream",
     "text": [
      "Solution no 6\n",
      "Enter First Number:4\n",
      "Enter Second Number:5\n",
      "Addition of two numbers: 9\n"
     ]
    }
   ],
   "source": [
    "#6.Write a python program which takes two inputs from user and print them addition \n",
    "print(\"Solution no 6\");\n",
    "num1= int(input(\"Enter First Number:\"));\n",
    "num2= int(input(\"Enter Second Number:\"));\n",
    "addition= num1+num2;\n",
    "print(\"Addition of two numbers:\",addition);"
   ]
  },
  {
   "cell_type": "code",
   "execution_count": null,
   "id": "1fe1beea",
   "metadata": {},
   "outputs": [],
   "source": []
  }
 ],
 "metadata": {
  "kernelspec": {
   "display_name": "Python 3",
   "language": "python",
   "name": "python3"
  },
  "language_info": {
   "codemirror_mode": {
    "name": "ipython",
    "version": 3
   },
   "file_extension": ".py",
   "mimetype": "text/x-python",
   "name": "python",
   "nbconvert_exporter": "python",
   "pygments_lexer": "ipython3",
   "version": "3.8.8"
  }
 },
 "nbformat": 4,
 "nbformat_minor": 5
}
